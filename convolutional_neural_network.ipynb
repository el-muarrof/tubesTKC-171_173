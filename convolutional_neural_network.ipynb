{
  "nbformat": 4,
  "nbformat_minor": 0,
  "metadata": {
    "colab": {
      "name": "convolutional_neural_network.ipynb",
      "provenance": [],
      "include_colab_link": true
    },
    "kernelspec": {
      "name": "python3",
      "display_name": "Python 3"
    },
    "language_info": {
      "name": "python"
    },
    "accelerator": "GPU"
  },
  "cells": [
    {
      "cell_type": "markdown",
      "metadata": {
        "id": "view-in-github",
        "colab_type": "text"
      },
      "source": [
        "<a href=\"https://colab.research.google.com/github/el-muarrof/tubesTKC-171_173/blob/main/convolutional_neural_network.ipynb\" target=\"_parent\"><img src=\"https://colab.research.google.com/assets/colab-badge.svg\" alt=\"Open In Colab\"/></a>"
      ]
    },
    {
      "cell_type": "code",
      "metadata": {
        "colab": {
          "base_uri": "https://localhost:8080/"
        },
        "id": "TYG8HEb3Dkpa",
        "outputId": "a62412b8-54f2-4e12-f856-ceed58ae622b"
      },
      "source": [
        "from google.colab import drive\n",
        "drive.mount ('/content/drive')"
      ],
      "execution_count": 1,
      "outputs": [
        {
          "output_type": "stream",
          "name": "stdout",
          "text": [
            "Mounted at /content/drive\n"
          ]
        }
      ]
    },
    {
      "cell_type": "code",
      "metadata": {
        "id": "4rtnNrFsEDIf"
      },
      "source": [
        "#ekstrak zip\n",
        "import os\n",
        "import zipfile\n",
        "\n",
        "local_zip = '/content/drive/MyDrive/Tugbes_tkc/breastHis.zip'\n",
        "zip_ref = zipfile.ZipFile(local_zip, 'r')\n",
        "zip_ref.extractall('/content')\n",
        "zip_ref.close()"
      ],
      "execution_count": 2,
      "outputs": []
    },
    {
      "cell_type": "code",
      "metadata": {
        "id": "y9L_1kqnEEjc"
      },
      "source": [
        "# Definisikan path untuk data train dan data validation\n",
        "\n",
        "base_dataset = \"/content/breastHis\"\n",
        "breast_dir = os.listdir(base_dataset)"
      ],
      "execution_count": 3,
      "outputs": []
    },
    {
      "cell_type": "code",
      "metadata": {
        "id": "YjCyjOT3s3Ah"
      },
      "source": [
        "BreastCancerImage = 'BreastCancerImage'\n",
        "image_benign_dir = '/content/BreastCancerImage/benign'\n",
        "image_malignant_dir = '/content/BreastCancerImage/malignant'\n",
        "\n",
        "os.mkdir (BreastCancerImage)\n",
        "os.mkdir (image_benign_dir)\n",
        "os.mkdir (image_malignant_dir)"
      ],
      "execution_count": 4,
      "outputs": []
    },
    {
      "cell_type": "code",
      "metadata": {
        "id": "VRO2tTqgwD83"
      },
      "source": [
        "benign_image = '/content/breastHis/benign'\n",
        "benign_dir = os.listdir(benign_image)"
      ],
      "execution_count": 5,
      "outputs": []
    },
    {
      "cell_type": "code",
      "metadata": {
        "id": "i60GLo2YotgS"
      },
      "source": [
        "import shutil\n",
        "\n",
        "for patient in breast_dir:   \n",
        "  path_dir = base_dataset+ '/'+ str(patient)\n",
        "  path_new = '/content/BreastCancerImage/' + str(patient)\n",
        "  for p in os.listdir(path_dir):\n",
        "    path = path_dir + '/' + p \n",
        "    file = os.listdir(path)\n",
        "\n",
        "    for fname in file:\n",
        "            src = os.path.join(path, fname)\n",
        "            dst = os.path.join(path_new, fname)\n",
        "            shutil.copyfile(src, dst)"
      ],
      "execution_count": 6,
      "outputs": []
    },
    {
      "cell_type": "code",
      "metadata": {
        "colab": {
          "base_uri": "https://localhost:8080/"
        },
        "id": "lOkgkVgAie_a",
        "outputId": "9881ea40-459b-4a02-906b-f988ff180ff6"
      },
      "source": [
        "!pip install split-folders"
      ],
      "execution_count": 7,
      "outputs": [
        {
          "output_type": "stream",
          "name": "stdout",
          "text": [
            "Collecting split-folders\n",
            "  Downloading split_folders-0.4.3-py3-none-any.whl (7.4 kB)\n",
            "Installing collected packages: split-folders\n",
            "Successfully installed split-folders-0.4.3\n"
          ]
        }
      ]
    },
    {
      "cell_type": "code",
      "metadata": {
        "colab": {
          "base_uri": "https://localhost:8080/"
        },
        "id": "2XGktqv52Uto",
        "outputId": "e35491da-fae5-4832-b7e4-818fff50586d"
      },
      "source": [
        "import splitfolders\n",
        "splitfolders.ratio(\"/content/BreastCancerImage\", output='SplitWithRatio', seed=42, ratio=(.8, .19, .01),group_prefix=None)"
      ],
      "execution_count": 8,
      "outputs": [
        {
          "output_type": "stream",
          "name": "stderr",
          "text": [
            "Copying files: 1995 files [00:17, 115.20 files/s]\n"
          ]
        }
      ]
    },
    {
      "cell_type": "code",
      "metadata": {
        "id": "9gc0BCSREF0M"
      },
      "source": [
        "import cv2\n",
        "import numpy as np\n",
        "\n",
        "# Gather data train\n",
        "train_data = []\n",
        "train_label = []\n",
        "for r, d, f in os.walk('/content/SplitWithRatio/train'):\n",
        "    for file in f:\n",
        "        if \".png\" in file:\n",
        "            imagePath = os.path.join(r, file)\n",
        "            image = cv2.imread(imagePath)\n",
        "            image = cv2.resize(image, (150,150))\n",
        "            train_data.append(image)\n",
        "            label = imagePath.split(os.path.sep)[-2]\n",
        "            train_label.append(label)\n",
        "\n",
        "train_data = np.array(train_data)\n",
        "train_label = np.array(train_label)"
      ],
      "execution_count": 9,
      "outputs": []
    },
    {
      "cell_type": "code",
      "metadata": {
        "id": "FuoKFhhVEG_O"
      },
      "source": [
        "# Gather data validation\n",
        "val_data = []\n",
        "val_label = []\n",
        "for r, d, f in os.walk('/content/SplitWithRatio/val'):\n",
        "    for file in f:\n",
        "        if \".png\" in file:\n",
        "            imagePath = os.path.join(r, file)\n",
        "            image = cv2.imread(imagePath)\n",
        "            image = cv2.resize(image, (150,150))\n",
        "            val_data.append(image)\n",
        "            label = imagePath.split(os.path.sep)[-2]\n",
        "            val_label.append(label)\n",
        "\n",
        "val_data = np.array(val_data)\n",
        "val_label = np.array(val_label)"
      ],
      "execution_count": 10,
      "outputs": []
    },
    {
      "cell_type": "markdown",
      "metadata": {
        "id": "kiXbwrN3ELqv"
      },
      "source": [
        "<h3>Data Preprocessing</h3>"
      ]
    },
    {
      "cell_type": "code",
      "metadata": {
        "colab": {
          "base_uri": "https://localhost:8080/"
        },
        "id": "m5VhnvtrEI1I",
        "outputId": "536e545d-e3e6-4b0f-ae4f-29e2a4adbca2"
      },
      "source": [
        "# Tampilkan shape dari data train dan data validation\n",
        "print(\"Train Data = \", train_data.shape)\n",
        "print(\"Train Label = \", train_label.shape)\n",
        "print(\"Validation Data = \", val_data.shape)\n",
        "print(\"Validation Label = \", val_label.shape)"
      ],
      "execution_count": 11,
      "outputs": [
        {
          "output_type": "stream",
          "name": "stdout",
          "text": [
            "Train Data =  (1596, 150, 150, 3)\n",
            "Train Label =  (1596,)\n",
            "Validation Data =  (378, 150, 150, 3)\n",
            "Validation Label =  (378,)\n"
          ]
        }
      ]
    },
    {
      "cell_type": "code",
      "metadata": {
        "colab": {
          "base_uri": "https://localhost:8080/"
        },
        "id": "q1LVp6dCENne",
        "outputId": "d2901eee-5a12-4901-b18b-0dd62f054ad1"
      },
      "source": [
        "# Normalisasi dataset\n",
        "print(\"Data sebelum di-normalisasi \", train_data[0][0][0])\n",
        "\n",
        "x_train = train_data.astype('float32') / 255.0\n",
        "x_val = val_data.astype('float32') / 255.0\n",
        "print(\"Data setelah di-normalisasi \", x_train[0][0][0])"
      ],
      "execution_count": 12,
      "outputs": [
        {
          "output_type": "stream",
          "name": "stdout",
          "text": [
            "Data sebelum di-normalisasi  [172 162 178]\n",
            "Data setelah di-normalisasi  [0.6745098  0.63529414 0.69803923]\n"
          ]
        }
      ]
    },
    {
      "cell_type": "code",
      "metadata": {
        "colab": {
          "base_uri": "https://localhost:8080/"
        },
        "id": "tc7FivC6EPhm",
        "outputId": "c1553c62-7e7f-4326-cd3e-c21a2393a206"
      },
      "source": [
        "# Transformasi label encoder\n",
        "from sklearn.preprocessing import LabelEncoder\n",
        "\n",
        "print(\"Label sebelum di-encoder \", train_label[995:1005])\n",
        "\n",
        "lb = LabelEncoder()\n",
        "y_train = lb.fit_transform(train_label)\n",
        "y_val = lb.fit_transform(val_label)\n",
        "\n",
        "print(\"Label setelah di-encoder \", y_train[995:1005])"
      ],
      "execution_count": 13,
      "outputs": [
        {
          "output_type": "stream",
          "name": "stdout",
          "text": [
            "Label sebelum di-encoder  ['malignant' 'malignant' 'malignant' 'malignant' 'malignant' 'malignant'\n",
            " 'malignant' 'malignant' 'malignant' 'malignant']\n",
            "Label setelah di-encoder  [1 1 1 1 1 1 1 1 1 1]\n"
          ]
        }
      ]
    },
    {
      "cell_type": "markdown",
      "metadata": {
        "id": "4jVWbOhOEzQJ"
      },
      "source": [
        "<h3>Definisikan Model</h3>"
      ]
    },
    {
      "cell_type": "code",
      "metadata": {
        "id": "usLiFiwAEvVb"
      },
      "source": [
        "from tensorflow.keras.models import Sequential\n",
        "from tensorflow.keras.layers import InputLayer, Dense, Conv2D, MaxPool2D, Flatten, Dropout"
      ],
      "execution_count": 14,
      "outputs": []
    },
    {
      "cell_type": "code",
      "metadata": {
        "id": "rDwzxacpE1ei"
      },
      "source": [
        "# Feature Extraction Layer\n",
        "model = Sequential()\n",
        "\n",
        "model.add(InputLayer(input_shape=[150,150,3]))\n",
        "model.add(Conv2D(filters=16, kernel_size=3, strides=1, padding='same', activation='relu'))\n",
        "model.add(MaxPool2D(pool_size=2, padding='same'))\n",
        "model.add(Conv2D(filters=32, kernel_size=3, strides=1, padding='same', activation='relu'))\n",
        "model.add(MaxPool2D(pool_size=2, padding='same'))\n",
        "model.add(Conv2D(filters=64, kernel_size=3, strides=1, padding='same', activation='relu'))\n",
        "model.add(MaxPool2D(pool_size=2, padding='same'))\n",
        "model.add(Dropout(0.25)) \n",
        "model.add(Flatten())"
      ],
      "execution_count": 15,
      "outputs": []
    },
    {
      "cell_type": "code",
      "metadata": {
        "id": "Sud1AUF0E2k8"
      },
      "source": [
        "# Fully Connected Layer\n",
        "model.add(Dense(128, activation='relu'))\n",
        "model.add(Dense(256, activation='relu'))\n",
        "model.add(Dropout(0.5))\n",
        "model.add(Dropout(0.05))\n",
        "model.add(Dense(1, activation='sigmoid'))"
      ],
      "execution_count": 35,
      "outputs": []
    },
    {
      "cell_type": "code",
      "metadata": {
        "colab": {
          "base_uri": "https://localhost:8080/"
        },
        "id": "XW-KE9ePE466",
        "outputId": "8e99bdc4-6ac2-4ba2-f732-9e269ca81064"
      },
      "source": [
        "# Print model summary\n",
        "print(model.summary())"
      ],
      "execution_count": 36,
      "outputs": [
        {
          "output_type": "stream",
          "name": "stdout",
          "text": [
            "Model: \"sequential\"\n",
            "_________________________________________________________________\n",
            " Layer (type)                Output Shape              Param #   \n",
            "=================================================================\n",
            " conv2d (Conv2D)             (None, 150, 150, 16)      448       \n",
            "                                                                 \n",
            " max_pooling2d (MaxPooling2D  (None, 75, 75, 16)       0         \n",
            " )                                                               \n",
            "                                                                 \n",
            " conv2d_1 (Conv2D)           (None, 75, 75, 32)        4640      \n",
            "                                                                 \n",
            " max_pooling2d_1 (MaxPooling  (None, 38, 38, 32)       0         \n",
            " 2D)                                                             \n",
            "                                                                 \n",
            " conv2d_2 (Conv2D)           (None, 38, 38, 64)        18496     \n",
            "                                                                 \n",
            " max_pooling2d_2 (MaxPooling  (None, 19, 19, 64)       0         \n",
            " 2D)                                                             \n",
            "                                                                 \n",
            " dropout (Dropout)           (None, 19, 19, 64)        0         \n",
            "                                                                 \n",
            " flatten (Flatten)           (None, 23104)             0         \n",
            "                                                                 \n",
            " dense (Dense)               (None, 128)               2957440   \n",
            "                                                                 \n",
            " dropout_1 (Dropout)         (None, 128)               0         \n",
            "                                                                 \n",
            " dense_1 (Dense)             (None, 1)                 129       \n",
            "                                                                 \n",
            " dropout_2 (Dropout)         (None, 1)                 0         \n",
            "                                                                 \n",
            " dense_2 (Dense)             (None, 128)               256       \n",
            "                                                                 \n",
            " dropout_3 (Dropout)         (None, 128)               0         \n",
            "                                                                 \n",
            " dense_3 (Dense)             (None, 1)                 129       \n",
            "                                                                 \n",
            " dense_4 (Dense)             (None, 128)               256       \n",
            "                                                                 \n",
            " dense_5 (Dense)             (None, 256)               33024     \n",
            "                                                                 \n",
            " dropout_4 (Dropout)         (None, 256)               0         \n",
            "                                                                 \n",
            " dropout_5 (Dropout)         (None, 256)               0         \n",
            "                                                                 \n",
            " dense_6 (Dense)             (None, 1)                 257       \n",
            "                                                                 \n",
            "=================================================================\n",
            "Total params: 3,015,075\n",
            "Trainable params: 3,015,075\n",
            "Non-trainable params: 0\n",
            "_________________________________________________________________\n",
            "None\n"
          ]
        }
      ]
    },
    {
      "cell_type": "code",
      "metadata": {
        "colab": {
          "base_uri": "https://localhost:8080/"
        },
        "id": "Tais64D7E5Zo",
        "outputId": "82a26f46-9c4a-4647-f4c9-6590402594ce"
      },
      "source": [
        "# Compile model\n",
        "from tensorflow.keras.optimizers import Adam\n",
        "\n",
        "model.compile(optimizer=Adam(lr=0.001), \n",
        "              loss='binary_crossentropy', \n",
        "              metrics=['acc'])"
      ],
      "execution_count": 37,
      "outputs": [
        {
          "output_type": "stream",
          "name": "stderr",
          "text": [
            "/usr/local/lib/python3.7/dist-packages/keras/optimizer_v2/adam.py:105: UserWarning: The `lr` argument is deprecated, use `learning_rate` instead.\n",
            "  super(Adam, self).__init__(name, **kwargs)\n"
          ]
        }
      ]
    },
    {
      "cell_type": "markdown",
      "metadata": {
        "id": "NTNBH19iE8kt"
      },
      "source": [
        "<h3>Training Model</h3>"
      ]
    },
    {
      "cell_type": "code",
      "metadata": {
        "colab": {
          "base_uri": "https://localhost:8080/"
        },
        "id": "p4Vr8dyvE6pM",
        "outputId": "79d1eb09-2b03-49b2-9cbd-4f2979a1a791"
      },
      "source": [
        "H = model.fit(x_train, y_train, batch_size=32, epochs=100, validation_data=(x_val, y_val))"
      ],
      "execution_count": 38,
      "outputs": [
        {
          "output_type": "stream",
          "name": "stdout",
          "text": [
            "Epoch 1/100\n",
            "50/50 [==============================] - 4s 52ms/step - loss: 0.4300 - acc: 0.6729 - val_loss: 0.5874 - val_acc: 0.6878\n",
            "Epoch 2/100\n",
            "50/50 [==============================] - 2s 46ms/step - loss: 0.2437 - acc: 0.9461 - val_loss: 0.7354 - val_acc: 0.7037\n",
            "Epoch 3/100\n",
            "50/50 [==============================] - 2s 46ms/step - loss: 0.1883 - acc: 0.9417 - val_loss: 0.6726 - val_acc: 0.8254\n",
            "Epoch 4/100\n",
            "50/50 [==============================] - 2s 46ms/step - loss: 0.1317 - acc: 0.9618 - val_loss: 0.6914 - val_acc: 0.7646\n",
            "Epoch 5/100\n",
            "50/50 [==============================] - 2s 46ms/step - loss: 0.1166 - acc: 0.9649 - val_loss: 0.8317 - val_acc: 0.8095\n",
            "Epoch 6/100\n",
            "50/50 [==============================] - 2s 46ms/step - loss: 0.1064 - acc: 0.9687 - val_loss: 0.8459 - val_acc: 0.7989\n",
            "Epoch 7/100\n",
            "50/50 [==============================] - 2s 46ms/step - loss: 0.1296 - acc: 0.9599 - val_loss: 0.9194 - val_acc: 0.8254\n",
            "Epoch 8/100\n",
            "50/50 [==============================] - 2s 46ms/step - loss: 0.0998 - acc: 0.9718 - val_loss: 0.9555 - val_acc: 0.8280\n",
            "Epoch 9/100\n",
            "50/50 [==============================] - 2s 46ms/step - loss: 0.1305 - acc: 0.9593 - val_loss: 1.6241 - val_acc: 0.7910\n",
            "Epoch 10/100\n",
            "50/50 [==============================] - 2s 46ms/step - loss: 0.1561 - acc: 0.9568 - val_loss: 0.7336 - val_acc: 0.7698\n",
            "Epoch 11/100\n",
            "50/50 [==============================] - 2s 46ms/step - loss: 0.1147 - acc: 0.9649 - val_loss: 0.9240 - val_acc: 0.7831\n",
            "Epoch 12/100\n",
            "50/50 [==============================] - 2s 46ms/step - loss: 0.1277 - acc: 0.9618 - val_loss: 0.8537 - val_acc: 0.7593\n",
            "Epoch 13/100\n",
            "50/50 [==============================] - 2s 48ms/step - loss: 0.1224 - acc: 0.9649 - val_loss: 0.8554 - val_acc: 0.8042\n",
            "Epoch 14/100\n",
            "50/50 [==============================] - 2s 46ms/step - loss: 0.1470 - acc: 0.9593 - val_loss: 1.0891 - val_acc: 0.7725\n",
            "Epoch 15/100\n",
            "50/50 [==============================] - 2s 46ms/step - loss: 0.1596 - acc: 0.9492 - val_loss: 1.1513 - val_acc: 0.7407\n",
            "Epoch 16/100\n",
            "50/50 [==============================] - 2s 48ms/step - loss: 0.1386 - acc: 0.9605 - val_loss: 0.8544 - val_acc: 0.7937\n",
            "Epoch 17/100\n",
            "50/50 [==============================] - 2s 46ms/step - loss: 0.1275 - acc: 0.9605 - val_loss: 0.8053 - val_acc: 0.8016\n",
            "Epoch 18/100\n",
            "50/50 [==============================] - 2s 46ms/step - loss: 0.1216 - acc: 0.9630 - val_loss: 0.8353 - val_acc: 0.7804\n",
            "Epoch 19/100\n",
            "50/50 [==============================] - 2s 46ms/step - loss: 0.1017 - acc: 0.9712 - val_loss: 0.8776 - val_acc: 0.7857\n",
            "Epoch 20/100\n",
            "50/50 [==============================] - 2s 46ms/step - loss: 0.1258 - acc: 0.9624 - val_loss: 0.8860 - val_acc: 0.7989\n",
            "Epoch 21/100\n",
            "50/50 [==============================] - 2s 46ms/step - loss: 0.1249 - acc: 0.9612 - val_loss: 0.9800 - val_acc: 0.8042\n",
            "Epoch 22/100\n",
            "50/50 [==============================] - 2s 46ms/step - loss: 0.1254 - acc: 0.9612 - val_loss: 1.0106 - val_acc: 0.8016\n",
            "Epoch 23/100\n",
            "50/50 [==============================] - 2s 46ms/step - loss: 0.1302 - acc: 0.9586 - val_loss: 1.0216 - val_acc: 0.8042\n",
            "Epoch 24/100\n",
            "50/50 [==============================] - 2s 46ms/step - loss: 0.1303 - acc: 0.9574 - val_loss: 1.0366 - val_acc: 0.7963\n",
            "Epoch 25/100\n",
            "50/50 [==============================] - 2s 46ms/step - loss: 0.1021 - acc: 0.9718 - val_loss: 1.0590 - val_acc: 0.7963\n",
            "Epoch 26/100\n",
            "50/50 [==============================] - 2s 46ms/step - loss: 0.1312 - acc: 0.9593 - val_loss: 1.0470 - val_acc: 0.8042\n",
            "Epoch 27/100\n",
            "50/50 [==============================] - 2s 46ms/step - loss: 0.1120 - acc: 0.9668 - val_loss: 1.0542 - val_acc: 0.8042\n",
            "Epoch 28/100\n",
            "50/50 [==============================] - 2s 46ms/step - loss: 0.1375 - acc: 0.9561 - val_loss: 1.0324 - val_acc: 0.6931\n",
            "Epoch 29/100\n",
            "50/50 [==============================] - 2s 46ms/step - loss: 0.1378 - acc: 0.9568 - val_loss: 1.0632 - val_acc: 0.7857\n",
            "Epoch 30/100\n",
            "50/50 [==============================] - 2s 46ms/step - loss: 0.1346 - acc: 0.9618 - val_loss: 0.8292 - val_acc: 0.8122\n",
            "Epoch 31/100\n",
            "50/50 [==============================] - 2s 46ms/step - loss: 0.1279 - acc: 0.9605 - val_loss: 1.0348 - val_acc: 0.8122\n",
            "Epoch 32/100\n",
            "50/50 [==============================] - 2s 46ms/step - loss: 0.1148 - acc: 0.9662 - val_loss: 0.9014 - val_acc: 0.8095\n",
            "Epoch 33/100\n",
            "50/50 [==============================] - 2s 47ms/step - loss: 0.1184 - acc: 0.9643 - val_loss: 0.8745 - val_acc: 0.8175\n",
            "Epoch 34/100\n",
            "50/50 [==============================] - 2s 46ms/step - loss: 0.1175 - acc: 0.9630 - val_loss: 1.0603 - val_acc: 0.8095\n",
            "Epoch 35/100\n",
            "50/50 [==============================] - 2s 46ms/step - loss: 0.1173 - acc: 0.9655 - val_loss: 0.8180 - val_acc: 0.8095\n",
            "Epoch 36/100\n",
            "50/50 [==============================] - 2s 46ms/step - loss: 0.1295 - acc: 0.9593 - val_loss: 0.8250 - val_acc: 0.8148\n",
            "Epoch 37/100\n",
            "50/50 [==============================] - 2s 47ms/step - loss: 0.1270 - acc: 0.9630 - val_loss: 0.9596 - val_acc: 0.8201\n",
            "Epoch 38/100\n",
            "50/50 [==============================] - 2s 46ms/step - loss: 0.1707 - acc: 0.9492 - val_loss: 0.9721 - val_acc: 0.7487\n",
            "Epoch 39/100\n",
            "50/50 [==============================] - 2s 47ms/step - loss: 0.1182 - acc: 0.9655 - val_loss: 0.8030 - val_acc: 0.7989\n",
            "Epoch 40/100\n",
            "50/50 [==============================] - 2s 46ms/step - loss: 0.1166 - acc: 0.9668 - val_loss: 0.8111 - val_acc: 0.8069\n",
            "Epoch 41/100\n",
            "50/50 [==============================] - 2s 46ms/step - loss: 0.1251 - acc: 0.9605 - val_loss: 1.0068 - val_acc: 0.8175\n",
            "Epoch 42/100\n",
            "50/50 [==============================] - 2s 46ms/step - loss: 0.1111 - acc: 0.9662 - val_loss: 0.8941 - val_acc: 0.8201\n",
            "Epoch 43/100\n",
            "50/50 [==============================] - 2s 49ms/step - loss: 0.0936 - acc: 0.9743 - val_loss: 0.9771 - val_acc: 0.8280\n",
            "Epoch 44/100\n",
            "50/50 [==============================] - 2s 47ms/step - loss: 0.1168 - acc: 0.9655 - val_loss: 1.1409 - val_acc: 0.8148\n",
            "Epoch 45/100\n",
            "50/50 [==============================] - 2s 46ms/step - loss: 0.1334 - acc: 0.9574 - val_loss: 0.9368 - val_acc: 0.7672\n",
            "Epoch 46/100\n",
            "50/50 [==============================] - 2s 46ms/step - loss: 0.1146 - acc: 0.9693 - val_loss: 0.9076 - val_acc: 0.8175\n",
            "Epoch 47/100\n",
            "50/50 [==============================] - 2s 46ms/step - loss: 0.1235 - acc: 0.9630 - val_loss: 1.0225 - val_acc: 0.8122\n",
            "Epoch 48/100\n",
            "50/50 [==============================] - 2s 46ms/step - loss: 0.1493 - acc: 0.9511 - val_loss: 1.5467 - val_acc: 0.7751\n",
            "Epoch 49/100\n",
            "50/50 [==============================] - 2s 47ms/step - loss: 0.1768 - acc: 0.9430 - val_loss: 1.0103 - val_acc: 0.7381\n",
            "Epoch 50/100\n",
            "50/50 [==============================] - 2s 47ms/step - loss: 0.1455 - acc: 0.9574 - val_loss: 0.8857 - val_acc: 0.7884\n",
            "Epoch 51/100\n",
            "50/50 [==============================] - 2s 46ms/step - loss: 0.1101 - acc: 0.9687 - val_loss: 0.8586 - val_acc: 0.7460\n",
            "Epoch 52/100\n",
            "50/50 [==============================] - 2s 46ms/step - loss: 0.1355 - acc: 0.9580 - val_loss: 0.8154 - val_acc: 0.8175\n",
            "Epoch 53/100\n",
            "50/50 [==============================] - 2s 46ms/step - loss: 0.1211 - acc: 0.9637 - val_loss: 0.9493 - val_acc: 0.7407\n",
            "Epoch 54/100\n",
            "50/50 [==============================] - 2s 45ms/step - loss: 0.1311 - acc: 0.9586 - val_loss: 1.3364 - val_acc: 0.7963\n",
            "Epoch 55/100\n",
            "50/50 [==============================] - 2s 46ms/step - loss: 0.1885 - acc: 0.9405 - val_loss: 0.7820 - val_acc: 0.8095\n",
            "Epoch 56/100\n",
            "50/50 [==============================] - 2s 46ms/step - loss: 0.1068 - acc: 0.9699 - val_loss: 1.0156 - val_acc: 0.8069\n",
            "Epoch 57/100\n",
            "50/50 [==============================] - 2s 46ms/step - loss: 0.1359 - acc: 0.9568 - val_loss: 0.9420 - val_acc: 0.7804\n",
            "Epoch 58/100\n",
            "50/50 [==============================] - 2s 46ms/step - loss: 0.1266 - acc: 0.9605 - val_loss: 1.2268 - val_acc: 0.7910\n",
            "Epoch 59/100\n",
            "50/50 [==============================] - 2s 46ms/step - loss: 0.1102 - acc: 0.9680 - val_loss: 1.2095 - val_acc: 0.7831\n",
            "Epoch 60/100\n",
            "50/50 [==============================] - 2s 46ms/step - loss: 0.1449 - acc: 0.9530 - val_loss: 0.9537 - val_acc: 0.7831\n",
            "Epoch 61/100\n",
            "50/50 [==============================] - 2s 47ms/step - loss: 0.1271 - acc: 0.9605 - val_loss: 0.9510 - val_acc: 0.7884\n",
            "Epoch 62/100\n",
            "50/50 [==============================] - 2s 47ms/step - loss: 0.1095 - acc: 0.9674 - val_loss: 1.1419 - val_acc: 0.7910\n",
            "Epoch 63/100\n",
            "50/50 [==============================] - 2s 46ms/step - loss: 0.1271 - acc: 0.9605 - val_loss: 1.0947 - val_acc: 0.7910\n",
            "Epoch 64/100\n",
            "50/50 [==============================] - 2s 46ms/step - loss: 0.1244 - acc: 0.9605 - val_loss: 1.0254 - val_acc: 0.8016\n",
            "Epoch 65/100\n",
            "50/50 [==============================] - 2s 46ms/step - loss: 0.1160 - acc: 0.9655 - val_loss: 0.8954 - val_acc: 0.7487\n",
            "Epoch 66/100\n",
            "50/50 [==============================] - 2s 47ms/step - loss: 0.1146 - acc: 0.9643 - val_loss: 1.0225 - val_acc: 0.7778\n",
            "Epoch 67/100\n",
            "50/50 [==============================] - 2s 46ms/step - loss: 0.1252 - acc: 0.9618 - val_loss: 1.0283 - val_acc: 0.8069\n",
            "Epoch 68/100\n",
            "50/50 [==============================] - 2s 46ms/step - loss: 0.1265 - acc: 0.9599 - val_loss: 1.0560 - val_acc: 0.8095\n",
            "Epoch 69/100\n",
            "50/50 [==============================] - 2s 47ms/step - loss: 0.0996 - acc: 0.9712 - val_loss: 1.0909 - val_acc: 0.8069\n",
            "Epoch 70/100\n",
            "50/50 [==============================] - 2s 46ms/step - loss: 0.1242 - acc: 0.9624 - val_loss: 1.1050 - val_acc: 0.8122\n",
            "Epoch 71/100\n",
            "50/50 [==============================] - 2s 46ms/step - loss: 0.1097 - acc: 0.9674 - val_loss: 1.1266 - val_acc: 0.8122\n",
            "Epoch 72/100\n",
            "50/50 [==============================] - 2s 47ms/step - loss: 0.1441 - acc: 0.9505 - val_loss: 1.2499 - val_acc: 0.7672\n",
            "Epoch 73/100\n",
            "50/50 [==============================] - 2s 47ms/step - loss: 0.1281 - acc: 0.9605 - val_loss: 0.8527 - val_acc: 0.7672\n",
            "Epoch 74/100\n",
            "50/50 [==============================] - 2s 46ms/step - loss: 0.1309 - acc: 0.9580 - val_loss: 1.0015 - val_acc: 0.8201\n",
            "Epoch 75/100\n",
            "50/50 [==============================] - 2s 47ms/step - loss: 0.1433 - acc: 0.9549 - val_loss: 0.9690 - val_acc: 0.7804\n",
            "Epoch 76/100\n",
            "50/50 [==============================] - 2s 46ms/step - loss: 0.1089 - acc: 0.9687 - val_loss: 0.7999 - val_acc: 0.7778\n",
            "Epoch 77/100\n",
            "50/50 [==============================] - 2s 46ms/step - loss: 0.1031 - acc: 0.9706 - val_loss: 1.0093 - val_acc: 0.7804\n",
            "Epoch 78/100\n",
            "50/50 [==============================] - 2s 47ms/step - loss: 0.1078 - acc: 0.9706 - val_loss: 0.9780 - val_acc: 0.7698\n",
            "Epoch 79/100\n",
            "50/50 [==============================] - 2s 47ms/step - loss: 0.1291 - acc: 0.9605 - val_loss: 1.0203 - val_acc: 0.7831\n",
            "Epoch 80/100\n",
            "50/50 [==============================] - 2s 46ms/step - loss: 0.1213 - acc: 0.9637 - val_loss: 0.9261 - val_acc: 0.8095\n",
            "Epoch 81/100\n",
            "50/50 [==============================] - 2s 46ms/step - loss: 0.1161 - acc: 0.9655 - val_loss: 1.2328 - val_acc: 0.7698\n",
            "Epoch 82/100\n",
            "50/50 [==============================] - 2s 46ms/step - loss: 0.1414 - acc: 0.9549 - val_loss: 1.1047 - val_acc: 0.7910\n",
            "Epoch 83/100\n",
            "50/50 [==============================] - 2s 46ms/step - loss: 0.1094 - acc: 0.9680 - val_loss: 1.1280 - val_acc: 0.7804\n",
            "Epoch 84/100\n",
            "50/50 [==============================] - 2s 47ms/step - loss: 0.1445 - acc: 0.9518 - val_loss: 1.0266 - val_acc: 0.7434\n",
            "Epoch 85/100\n",
            "50/50 [==============================] - 2s 46ms/step - loss: 0.1216 - acc: 0.9624 - val_loss: 0.7186 - val_acc: 0.7989\n",
            "Epoch 86/100\n",
            "50/50 [==============================] - 2s 47ms/step - loss: 0.1005 - acc: 0.9712 - val_loss: 0.8079 - val_acc: 0.8069\n",
            "Epoch 87/100\n",
            "50/50 [==============================] - 2s 46ms/step - loss: 0.1196 - acc: 0.9630 - val_loss: 0.8746 - val_acc: 0.7963\n",
            "Epoch 88/100\n",
            "50/50 [==============================] - 2s 46ms/step - loss: 0.0941 - acc: 0.9737 - val_loss: 0.9167 - val_acc: 0.7937\n",
            "Epoch 89/100\n",
            "50/50 [==============================] - 2s 47ms/step - loss: 0.1236 - acc: 0.9612 - val_loss: 0.9315 - val_acc: 0.7937\n",
            "Epoch 90/100\n",
            "50/50 [==============================] - 2s 47ms/step - loss: 0.1236 - acc: 0.9599 - val_loss: 1.0922 - val_acc: 0.8042\n",
            "Epoch 91/100\n",
            "50/50 [==============================] - 2s 46ms/step - loss: 0.1244 - acc: 0.9593 - val_loss: 1.1575 - val_acc: 0.8069\n",
            "Epoch 92/100\n",
            "50/50 [==============================] - 2s 46ms/step - loss: 0.1234 - acc: 0.9612 - val_loss: 1.1663 - val_acc: 0.8042\n",
            "Epoch 93/100\n",
            "50/50 [==============================] - 2s 47ms/step - loss: 0.1086 - acc: 0.9680 - val_loss: 0.7844 - val_acc: 0.7857\n",
            "Epoch 94/100\n",
            "50/50 [==============================] - 2s 46ms/step - loss: 0.1527 - acc: 0.9492 - val_loss: 1.3959 - val_acc: 0.7804\n",
            "Epoch 95/100\n",
            "50/50 [==============================] - 2s 47ms/step - loss: 0.1481 - acc: 0.9580 - val_loss: 0.8324 - val_acc: 0.8016\n",
            "Epoch 96/100\n",
            "50/50 [==============================] - 2s 47ms/step - loss: 0.1227 - acc: 0.9618 - val_loss: 1.0542 - val_acc: 0.8069\n",
            "Epoch 97/100\n",
            "50/50 [==============================] - 2s 47ms/step - loss: 0.1267 - acc: 0.9605 - val_loss: 1.0049 - val_acc: 0.8148\n",
            "Epoch 98/100\n",
            "50/50 [==============================] - 2s 46ms/step - loss: 0.1130 - acc: 0.9668 - val_loss: 1.2579 - val_acc: 0.7937\n",
            "Epoch 99/100\n",
            "50/50 [==============================] - 2s 46ms/step - loss: 0.1068 - acc: 0.9687 - val_loss: 1.2289 - val_acc: 0.8069\n",
            "Epoch 100/100\n",
            "50/50 [==============================] - 2s 46ms/step - loss: 0.1333 - acc: 0.9580 - val_loss: 0.9717 - val_acc: 0.8069\n"
          ]
        }
      ]
    },
    {
      "cell_type": "markdown",
      "metadata": {
        "id": "HuxjW35RFCZ6"
      },
      "source": [
        "<h3>Evaluasi Model</h3>"
      ]
    },
    {
      "cell_type": "code",
      "metadata": {
        "colab": {
          "base_uri": "https://localhost:8080/",
          "height": 298
        },
        "id": "1AM3ms3zE_AU",
        "outputId": "8ee760f9-02e0-4530-bad8-8b1861224a14"
      },
      "source": [
        "%matplotlib inline\n",
        "\n",
        "import matplotlib.pyplot as plt\n",
        "\n",
        "plt.style.use(\"ggplot\")\n",
        "plt.figure()\n",
        "plt.plot(np.arange(0, 100), H.history[\"loss\"], label=\"train_loss\")\n",
        "plt.plot(np.arange(0, 100), H.history[\"val_loss\"], label=\"val_loss\")\n",
        "plt.title(\"Loss Plot\")\n",
        "plt.xlabel(\"Epoch #\")\n",
        "plt.ylabel(\"Loss\")\n",
        "plt.legend()\n",
        "plt.show()"
      ],
      "execution_count": 39,
      "outputs": [
        {
          "output_type": "display_data",
          "data": {
            "image/png": "[encoded data removed]",
            "text/plain": [
              "<Figure size 432x288 with 1 Axes>"
            ]
          },
          "metadata": {}
        }
      ]
    },
    {
      "cell_type": "code",
      "metadata": {
        "colab": {
          "base_uri": "https://localhost:8080/",
          "height": 298
        },
        "id": "q1SJWudcFEDL",
        "outputId": "4cdb0007-dc06-4efc-d8ab-4569263a383a"
      },
      "source": [
        "plt.style.use(\"ggplot\")\n",
        "plt.figure()\n",
        "plt.plot(np.arange(0, 100), H.history[\"acc\"], label=\"train_acc\")\n",
        "plt.plot(np.arange(0, 100), H.history[\"val_acc\"], label=\"val_acc\")\n",
        "plt.title(\"Accuracy Plot\")\n",
        "plt.xlabel(\"Epoch #\")\n",
        "plt.ylabel(\"Acc\")\n",
        "plt.legend()\n",
        "plt.show()"
      ],
      "execution_count": 40,
      "outputs": [
        {
          "output_type": "display_data",
          "data": {
            "image/png": "[encoded data removed]",
            "text/plain": [
              "<Figure size 432x288 with 1 Axes>"
            ]
          },
          "metadata": {}
        }
      ]
    },
    {
      "cell_type": "code",
      "metadata": {
        "colab": {
          "base_uri": "https://localhost:8080/"
        },
        "id": "H_8mB3igFG-x",
        "outputId": "304759d3-5a58-4e33-a166-ffff52d532f2"
      },
      "source": [
        "from sklearn.metrics import classification_report\n",
        "\n",
        "pred = model.predict(x_val)\n",
        "labels = (pred > 0.5).astype(np.int)\n",
        "\n",
        "print(classification_report(y_val, labels))"
      ],
      "execution_count": 41,
      "outputs": [
        {
          "output_type": "stream",
          "name": "stdout",
          "text": [
            "              precision    recall  f1-score   support\n",
            "\n",
            "           0       0.69      0.69      0.69       118\n",
            "           1       0.86      0.86      0.86       260\n",
            "\n",
            "    accuracy                           0.81       378\n",
            "   macro avg       0.78      0.77      0.77       378\n",
            "weighted avg       0.81      0.81      0.81       378\n",
            "\n"
          ]
        }
      ]
    }
  ]
}